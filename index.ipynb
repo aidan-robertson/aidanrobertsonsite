{
  "cells": [
    {
      "cell_type": "raw",
      "metadata": {},
      "source": [
        "---\n",
        "title: \"aidan robertson\"\n",
        "image: images/headshot-02.JPG\n",
        "toc: false\n",
        "about:\n",
        "  template: trestles\n",
        "  image-shape: round\n",
        "  image-width: 20em\n",
        "  links: \n",
        "    - text: github\n",
        "      href: https://github.com/aidan-robertson\n",
        "      icon: \"github\"\n",
        "    - text: linkedin\n",
        "      href: https://www.linkedin.com/in/am-robertson/\n",
        "      icon: \"linkedin\"\n",
        "    - text: email\n",
        "      href: mailto::aidanrobertson@ucsb.edu\n",
        "      icon: \"envelope\"\n",
        "---"
      ],
      "id": "a2bca7e4"
    },
    {
      "cell_type": "markdown",
      "metadata": {},
      "source": [
        "## about me!\n",
        "\n",
        "Hi! I'm Aidan - a third year undergraduate at UC Santa Barbara double majoring in environmental studies and geography. I'm really interested in controlled burns as a tool for restoration, and am looking forward to engaging in some research on UCSB's own Lagoon Island this summer! I work at the front desk for the Student Resource Building on campus where I get to work with an awesome student staff team and help students find the resources they need. I love watching movies with my friends, baking, obsessing over my Google Calendar, and a good spreadsheet!\n",
        "\n",
        "## education\n",
        "\n",
        "University of California, Santa Barbara – Environmental Studies & Geography, B.A. (Expected June 2025)\n",
        "\n",
        "## current positions\n",
        "\n",
        "**Restoration Ecology Intern –** Cheadle Center for Biodiversity and Ecosystem Restoration, University of California, Santa Barbara; January 2024-present\n",
        "\n",
        "**SRB Front Desk Student Assistant/Supervisor –** Student Resource Building, University of California, Santa Barbara; September 2022-September 2023 (Student Assistant), September 2023-present (Student Supervisor)\n",
        "\n",
        "\n",
        "```{js}\n",
        "<script src=\"https://platform.linkedin.com/badges/js/profile.js\" async defer type=\"text/javascript\"></script>\n",
        "```\n",
        "\n",
        "```{js}\n",
        "<div class=\"badge-base LI-profile-badge\" data-locale=\"en_US\" data-size=\"large\" data-theme=\"light\" data-type=\"HORIZONTAL\" data-vanity=\"am-robertson\" data-version=\"v1\"><a class=\"badge-base__link LI-simple-link\" href=\"https://www.linkedin.com/in/am-robertson?trk=profile-badge\">Aidan Robertson</a></div>\n",
        "```"
      ],
      "id": "35441599"
    }
  ],
  "metadata": {
    "kernelspec": {
      "display_name": "Python 3",
      "language": "python",
      "name": "python3"
    }
  },
  "nbformat": 4,
  "nbformat_minor": 5
}